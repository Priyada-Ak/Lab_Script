{
 "cells": [
  {
   "cell_type": "code",
   "execution_count": 1,
   "id": "9ca26bcd",
   "metadata": {},
   "outputs": [
    {
     "name": "stdout",
     "output_type": "stream",
     "text": [
      "ค่าสีใน RGBA MODE :  (255, 0, 0, 255)\n",
      "ค่าสีใน RGBA MODE :  (255, 0, 0, 255)\n",
      "ค่าสีใน RGBA MODE :  (0, 0, 0, 255)\n",
      "ค่าสีใน RGBA MODE :  (210, 105, 30, 255)\n",
      "ค่าสีใน CMYK MODE :  (210, 105, 30)\n",
      "ค่าสีใน RGBA MODE :  (100, 149, 237, 255)\n"
     ]
    }
   ],
   "source": [
    "from PIL import ImageColor\n",
    "print(\"ค่าสีใน RGBA MODE : \",ImageColor.getcolor('red',\"RGBA\"))\n",
    "print(\"ค่าสีใน RGBA MODE : \",ImageColor.getcolor('RED',\"RGBA\"))\n",
    "print(\"ค่าสีใน RGBA MODE : \",ImageColor.getcolor('Black',\"RGBA\"))\n",
    "print(\"ค่าสีใน RGBA MODE : \",ImageColor.getcolor('chocolate',\"RGBA\"))\n",
    "print(\"ค่าสีใน CMYK MODE : \",ImageColor.getcolor('chocolate',\"CMYK\"))\n",
    "print(\"ค่าสีใน RGBA MODE : \",ImageColor.getcolor('cornflowerBlue',\"RGBA\"))"
   ]
  },
  {
   "cell_type": "code",
   "execution_count": 10,
   "id": "be871e0e",
   "metadata": {},
   "outputs": [
    {
     "name": "stdout",
     "output_type": "stream",
     "text": [
      "JPEG\n",
      "RGB\n",
      "(1268, 1392)\n",
      "None\n"
     ]
    }
   ],
   "source": [
    "from PIL import Image \n",
    "image = Image.open(\"cat.jpg\")\n",
    "image.show()\n",
    "print(image.format)\n",
    "print(image.mode)\n",
    "print(image.size)\n",
    "print(image.palette)"
   ]
  },
  {
   "cell_type": "code",
   "execution_count": 5,
   "id": "555ec983",
   "metadata": {},
   "outputs": [],
   "source": [
    "from PIL import Image \n",
    "image = Image.open(\"cat.png\")\n",
    "image.save(\"cat_newType.jpg\")\n",
    "image = Image.open(\"cat_newType.jpg\")\n",
    "image.save(\"cat_newType2.jpg\",'jpeg')"
   ]
  },
  {
   "cell_type": "code",
   "execution_count": 7,
   "id": "a757eccd",
   "metadata": {},
   "outputs": [
    {
     "name": "stdout",
     "output_type": "stream",
     "text": [
      "(1268, 1392)\n",
      "(800, 800)\n"
     ]
    }
   ],
   "source": [
    "from PIL import Image \n",
    "image = Image.open(\"cat.png\")\n",
    "print(image.size)\n",
    "\n",
    "image2 = image.resize((800,800))\n",
    "image2.save('cat_resize.jpg')\n",
    "print(image2.size)"
   ]
  },
  {
   "cell_type": "code",
   "execution_count": 9,
   "id": "27ea306a",
   "metadata": {},
   "outputs": [
    {
     "name": "stdout",
     "output_type": "stream",
     "text": [
      "(455, 500)\n"
     ]
    }
   ],
   "source": [
    "from PIL import Image \n",
    "image = Image.open(\"cat.png\")\n",
    "image.thumbnail((500,500))\n",
    "print(image.size)\n",
    "image.show()"
   ]
  },
  {
   "cell_type": "code",
   "execution_count": 26,
   "id": "5f96f75d",
   "metadata": {},
   "outputs": [],
   "source": [
    "from PIL import Image \n",
    "image = Image.open(\"cat.png\")\n",
    "box = (150,200,600,600)\n",
    "crop_image = image.crop(box)\n",
    "crop_image.save('crop_cat.jpg')"
   ]
  },
  {
   "cell_type": "code",
   "execution_count": 29,
   "id": "94f6103d",
   "metadata": {},
   "outputs": [
    {
     "name": "stdout",
     "output_type": "stream",
     "text": [
      "(1268, 1392)\n",
      "(840, 614)\n",
      "(634, 696)\n"
     ]
    }
   ],
   "source": [
    "from PIL import Image \n",
    "profile = Image.open(\"cat.png\")\n",
    "print (profile.size)\n",
    "logo = Image.open('heart3.png')\n",
    "print (logo.size)\n",
    "image_cpy = profile.copy()\n",
    "position = ((634),(696))\n",
    "print(position )\n",
    "logo.thumbnail((250,250))\n",
    "image_cpy.paste(logo,position)\n",
    "image_cpy.show()"
   ]
  },
  {
   "cell_type": "code",
   "execution_count": 18,
   "id": "c9f00111",
   "metadata": {},
   "outputs": [],
   "source": [
    "from PIL import Image \n",
    "image = Image.open(\"cat.png\")\n",
    "image_rot_90 = image.rotate(90)\n",
    "image_rot_90.save('image_rot_90.png')\n",
    "image_rot_180 = image.rotate(180)\n",
    "image_rot_180.save('image_rot_180.png')\n",
    "image.rotate(18).save('image_rot_18.png')"
   ]
  },
  {
   "cell_type": "code",
   "execution_count": 17,
   "id": "7464f6ed",
   "metadata": {},
   "outputs": [
    {
     "name": "stdout",
     "output_type": "stream",
     "text": [
      "Collecting termcolor\n",
      "  Downloading termcolor-1.1.0.tar.gz (3.9 kB)\n",
      "Building wheels for collected packages: termcolor\n",
      "  Building wheel for termcolor (setup.py): started\n",
      "  Building wheel for termcolor (setup.py): finished with status 'done'\n",
      "  Created wheel for termcolor: filename=termcolor-1.1.0-py3-none-any.whl size=4829 sha256=b1bd5eb64e2c34c223cf7036d0459ee4edd82dc7b9e8215229c48bd1413450e1\n",
      "  Stored in directory: c:\\users\\mutpr\\appdata\\local\\pip\\cache\\wheels\\a0\\16\\9c\\5473df82468f958445479c59e784896fa24f4a5fc024b0f501\n",
      "Successfully built termcolor\n",
      "Installing collected packages: termcolor\n",
      "Successfully installed termcolor-1.1.0\n",
      "Collecting pyfiglet\n",
      "  Downloading pyfiglet-0.8.post1-py2.py3-none-any.whl (865 kB)\n",
      "Installing collected packages: pyfiglet\n",
      "Successfully installed pyfiglet-0.8.post1\n",
      "Requirement already satisfied: Pillow in c:\\users\\mutpr\\anaconda3\\lib\\site-packages (8.2.0)\n"
     ]
    }
   ],
   "source": [
    "!pip install termcolor \n",
    "!pip install pyfiglet\n",
    "!pip install Pillow"
   ]
  },
  {
   "cell_type": "code",
   "execution_count": 9,
   "id": "2fb3a77e",
   "metadata": {},
   "outputs": [],
   "source": [
    "from PIL import Image \n",
    "image = Image.open('cat.png')\n",
    "image_rot_90 = image.rotate(90)\n",
    "image_rot_90.save('image_rot_90.png')\n",
    "image_rot_180 = image.rotate(180)\n",
    "image_rot_180.save('image_rot_180.png')\n",
    "image.rotate(18).save('image_rot_18.png')"
   ]
  },
  {
   "cell_type": "code",
   "execution_count": 10,
   "id": "17524f56",
   "metadata": {},
   "outputs": [],
   "source": [
    "from PIL import Image \n",
    "image = Image.open(\"cat.png\")\n",
    "image_flip = image.transpose(Image.FLIP_LEFT_RIGHT)\n",
    "image_flip.save('image_flip.jpg')"
   ]
  },
  {
   "cell_type": "code",
   "execution_count": 11,
   "id": "b4b5cde3",
   "metadata": {},
   "outputs": [],
   "source": [
    "from PIL import Image,ImageDraw\n",
    "blank_image = Image.new('RGBA',(400,300),'white')\n",
    "image_draw = ImageDraw.Draw(blank_image)\n",
    "image_draw.rectangle((70,50,270,200),outline ='red',fill='blue')\n",
    "\n",
    "image_draw.text((70,250),'hello world',fill='green')\n",
    "blank_image.show()\n"
   ]
  },
  {
   "cell_type": "code",
   "execution_count": 13,
   "id": "3ea0cc7a",
   "metadata": {},
   "outputs": [],
   "source": [
    "img = Image.open(\"cat.png\")\n",
    "greyscale_image = image.convert(\"L\")\n",
    "greyscale_image.save('greyscale_image.jpg')"
   ]
  },
  {
   "cell_type": "code",
   "execution_count": 15,
   "id": "9f36053a",
   "metadata": {},
   "outputs": [
    {
     "name": "stdout",
     "output_type": "stream",
     "text": [
      "0 0\n",
      "0 215\n",
      "0 430\n",
      "0 645\n",
      "0 860\n",
      "0 1075\n",
      "0 1290\n",
      "230 0\n",
      "230 215\n",
      "230 430\n",
      "230 645\n",
      "230 860\n",
      "230 1075\n",
      "230 1290\n",
      "460 0\n",
      "460 215\n",
      "460 430\n",
      "460 645\n",
      "460 860\n",
      "460 1075\n",
      "460 1290\n",
      "690 0\n",
      "690 215\n",
      "690 430\n",
      "690 645\n",
      "690 860\n",
      "690 1075\n",
      "690 1290\n",
      "920 0\n",
      "920 215\n",
      "920 430\n",
      "920 645\n",
      "920 860\n",
      "920 1075\n",
      "920 1290\n",
      "1150 0\n",
      "1150 215\n",
      "1150 430\n",
      "1150 645\n",
      "1150 860\n",
      "1150 1075\n",
      "1150 1290\n"
     ]
    }
   ],
   "source": [
    "from PIL import Image,ImageDraw\n",
    "cat = Image.open(\"cat.png\")\n",
    "catIm = cat.copy()\n",
    "catCopy = cat.copy()\n",
    "faceIm = catIm.crop((335,345,565,560))\n",
    "faceIm = cat.crop((335,345,565,560))\n",
    "catImWidth,catImHeight = catIm.size\n",
    "faceImWidth,faceImHeight = faceIm.size\n",
    "catCopyTwo = cat.copy()\n",
    "for left in range(0,catImWidth,faceImWidth):\n",
    "    for top in range(0,catImHeight,faceImHeight):\n",
    "        print(left,top)\n",
    "        catCopyTwo.paste(faceIm,(left,top))\n",
    "catCopyTwo.show()"
   ]
  },
  {
   "cell_type": "code",
   "execution_count": 29,
   "id": "6d1c9658",
   "metadata": {},
   "outputs": [
    {
     "name": "stdout",
     "output_type": "stream",
     "text": [
      "(960, 959)\n"
     ]
    }
   ],
   "source": [
    "from PIL import Image,ImageDraw\n",
    "\n",
    "profile2 = Image.open('muzs.jpg')\n",
    "foreground = Image.open('background.jpg')\n",
    "foreground.putalpha(120)\n",
    "foreground = foreground.resize(profile2.size)\n",
    "print(foreground.size)\n",
    "profile2.paste(foreground,(0,0),foreground)\n",
    "profile2.show()"
   ]
  },
  {
   "cell_type": "code",
   "execution_count": null,
   "id": "32a808c3",
   "metadata": {},
   "outputs": [],
   "source": []
  },
  {
   "cell_type": "code",
   "execution_count": null,
   "id": "b05f8c66",
   "metadata": {},
   "outputs": [],
   "source": []
  },
  {
   "cell_type": "code",
   "execution_count": null,
   "id": "ff5c67fd",
   "metadata": {},
   "outputs": [],
   "source": []
  }
 ],
 "metadata": {
  "kernelspec": {
   "display_name": "Python 3",
   "language": "python",
   "name": "python3"
  },
  "language_info": {
   "codemirror_mode": {
    "name": "ipython",
    "version": 3
   },
   "file_extension": ".py",
   "mimetype": "text/x-python",
   "name": "python",
   "nbconvert_exporter": "python",
   "pygments_lexer": "ipython3",
   "version": "3.8.8"
  }
 },
 "nbformat": 4,
 "nbformat_minor": 5
}
