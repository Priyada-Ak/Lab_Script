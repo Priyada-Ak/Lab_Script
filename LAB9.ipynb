{
 "cells": [
  {
   "cell_type": "code",
   "execution_count": 10,
   "id": "74dcd492",
   "metadata": {
    "scrolled": false
   },
   "outputs": [
    {
     "name": "stdout",
     "output_type": "stream",
     "text": [
      "Requirement already satisfied: pyautogui in c:\\users\\admin\\anaconda3\\lib\\site-packages (0.9.53)\n",
      "Requirement already satisfied: pygetwindow>=0.0.5 in c:\\users\\admin\\anaconda3\\lib\\site-packages (from pyautogui) (0.0.9)\n",
      "Requirement already satisfied: mouseinfo in c:\\users\\admin\\anaconda3\\lib\\site-packages (from pyautogui) (0.1.3)\n",
      "Note: you may need to restart the kernel to use updated packages.\n",
      "Requirement already satisfied: pyscreeze>=0.1.21 in c:\\users\\admin\\anaconda3\\lib\\site-packages (from pyautogui) (0.1.27)\n",
      "Requirement already satisfied: pymsgbox in c:\\users\\admin\\anaconda3\\lib\\site-packages (from pyautogui) (1.0.9)\n",
      "Requirement already satisfied: PyTweening>=1.0.1 in c:\\users\\admin\\anaconda3\\lib\\site-packages (from pyautogui) (1.0.3)\n",
      "Requirement already satisfied: pyrect in c:\\users\\admin\\anaconda3\\lib\\site-packages (from pygetwindow>=0.0.5->pyautogui) (0.1.4)\n",
      "Requirement already satisfied: Pillow>=6.2.1 in c:\\users\\admin\\anaconda3\\lib\\site-packages (from pyscreeze>=0.1.21->pyautogui) (8.2.0)\n",
      "Requirement already satisfied: pyperclip in c:\\users\\admin\\anaconda3\\lib\\site-packages (from mouseinfo->pyautogui) (1.8.2)\n"
     ]
    }
   ],
   "source": []
  },
  {
   "cell_type": "code",
   "execution_count": 32,
   "id": "4521459f",
   "metadata": {},
   "outputs": [
    {
     "name": "stdout",
     "output_type": "stream",
     "text": [
      "Requirement already satisfied: pyautogui in c:\\users\\admin\\anaconda3\\lib\\site-packages (0.9.53)\n",
      "Requirement already satisfied: pymsgbox in c:\\users\\admin\\anaconda3\\lib\\site-packages (from pyautogui) (1.0.9)\n",
      "Requirement already satisfied: PyTweening>=1.0.1 in c:\\users\\admin\\anaconda3\\lib\\site-packages (from pyautogui) (1.0.3)\n",
      "Requirement already satisfied: pygetwindow>=0.0.5 in c:\\users\\admin\\anaconda3\\lib\\site-packages (from pyautogui) (0.0.9)\n",
      "Requirement already satisfied: mouseinfo in c:\\users\\admin\\anaconda3\\lib\\site-packages (from pyautogui) (0.1.3)\n",
      "Requirement already satisfied: pyscreeze>=0.1.21 in c:\\users\\admin\\anaconda3\\lib\\site-packages (from pyautogui) (0.1.27)\n",
      "Requirement already satisfied: pyrect in c:\\users\\admin\\anaconda3\\lib\\site-packages (from pygetwindow>=0.0.5->pyautogui) (0.1.4)\n",
      "Requirement already satisfied: Pillow>=6.2.1 in c:\\users\\admin\\anaconda3\\lib\\site-packages (from pyscreeze>=0.1.21->pyautogui) (8.2.0)\n",
      "Requirement already satisfied: pyperclip in c:\\users\\admin\\anaconda3\\lib\\site-packages (from mouseinfo->pyautogui) (1.8.2)\n",
      "Requirement already satisfied: termcolor in c:\\users\\admin\\anaconda3\\lib\\site-packages (1.1.0)\n",
      "Requirement already satisfied: pyperclip in c:\\users\\admin\\anaconda3\\lib\\site-packages (1.8.2)\n"
     ]
    }
   ],
   "source": [
    "!pip install pyautogui\n",
    "!pip install termcolor\n",
    "!pip install pyperclip"
   ]
  },
  {
   "cell_type": "code",
   "execution_count": 34,
   "id": "38874cb6",
   "metadata": {},
   "outputs": [],
   "source": [
    "#Q1\n",
    "import pyautogui\n",
    "for i in range(10):\n",
    "     pyautogui.moveTo(100, 100, duration=0.25)\n",
    "     pyautogui.moveTo(200, 100, duration=0.25)\n",
    "     pyautogui.moveTo(200, 200, duration=0.25)\n",
    "     pyautogui.moveTo(100, 200, duration=0.25)\n"
   ]
  },
  {
   "cell_type": "code",
   "execution_count": 36,
   "id": "5da62255",
   "metadata": {},
   "outputs": [
    {
     "data": {
      "text/plain": [
       "Point(x=611, y=872)"
      ]
     },
     "execution_count": 36,
     "metadata": {},
     "output_type": "execute_result"
    }
   ],
   "source": [
    "#Q2\n",
    "pyautogui.position()"
   ]
  },
  {
   "cell_type": "code",
   "execution_count": null,
   "id": "00cc8e2d",
   "metadata": {},
   "outputs": [],
   "source": [
    "#Q3\n",
    "import pyautogui\n",
    "pyautogui.click(10, 5)"
   ]
  },
  {
   "cell_type": "code",
   "execution_count": 20,
   "id": "8bf8b560",
   "metadata": {},
   "outputs": [],
   "source": [
    "#Q4\n",
    "import pyautogui, time\n",
    "time.sleep(5)\n",
    "pyautogui.click()\n",
    "distance = 200\n",
    "while distance > 0:\n",
    "     pyautogui.dragRel(distance, 0, duration=0.2)\n",
    "     distance = distance - 5\n",
    "     pyautogui.dragRel(0, distance, duration=0.2)\n",
    "     pyautogui.dragRel(-distance, 0, duration=0.2)\n",
    "     distance = distance - 5\n",
    "     pyautogui.dragRel(0, -distance, duration=0.2)\n"
   ]
  },
  {
   "cell_type": "code",
   "execution_count": 31,
   "id": "95d24641",
   "metadata": {},
   "outputs": [],
   "source": [
    "#Q5\n",
    "import pyautogui\n",
    "im = pyautogui.screenshot()\n",
    "im.getpixel((0, 0))"
   ]
  },
  {
   "cell_type": "code",
   "execution_count": 28,
   "id": "ff601c0c",
   "metadata": {},
   "outputs": [
    {
     "data": {
      "text/plain": [
       "Point(x=535, y=723)"
      ]
     },
     "execution_count": 28,
     "metadata": {},
     "output_type": "execute_result"
    }
   ],
   "source": [
    "#Q6\n",
    "im.getpixel((50, 200))"
   ]
  },
  {
   "cell_type": "code",
   "execution_count": null,
   "id": "b5b496f1",
   "metadata": {},
   "outputs": [],
   "source": [
    "#Q7\n",
    "pyautogui.click(100, 100); pyautogui.typewrite('Hello world!')"
   ]
  },
  {
   "cell_type": "code",
   "execution_count": 37,
   "id": "53f65cb4",
   "metadata": {},
   "outputs": [],
   "source": [
    "#Q8\n",
    "pyautogui.click(100, 100); pyautogui.typewrite('Hello world!')"
   ]
  },
  {
   "cell_type": "code",
   "execution_count": null,
   "id": "ed908810",
   "metadata": {},
   "outputs": [],
   "source": [
    "#Q9\n",
    "import pyautogui, time\n",
    "def commentAfterDelay():\n",
    "     pyautogui.click(100, 100)\n",
    "     pyautogui.typewrite('In IDLE, Alt-3 comments out a line.')\n",
    "     time.sleep(2)\n",
    "     pyautogui.hotkey('alt', '3')"
   ]
  }
 ],
 "metadata": {
  "kernelspec": {
   "display_name": "Python 3",
   "language": "python",
   "name": "python3"
  },
  "language_info": {
   "codemirror_mode": {
    "name": "ipython",
    "version": 3
   },
   "file_extension": ".py",
   "mimetype": "text/x-python",
   "name": "python",
   "nbconvert_exporter": "python",
   "pygments_lexer": "ipython3",
   "version": "3.8.8"
  }
 },
 "nbformat": 4,
 "nbformat_minor": 5
}
